{
 "cells": [
  {
   "cell_type": "markdown",
   "id": "91fdd313",
   "metadata": {},
   "source": [
    "# 6 字符型数据及其处理"
   ]
  },
  {
   "cell_type": "markdown",
   "id": "452ea774",
   "metadata": {},
   "source": [
    "## 6.1 字符型向量"
   ]
  },
  {
   "cell_type": "code",
   "execution_count": 1,
   "id": "67c22a02",
   "metadata": {
    "ExecuteTime": {
     "end_time": "2022-09-30T05:31:04.848567Z",
     "start_time": "2022-09-30T05:31:04.831Z"
    }
   },
   "outputs": [
    {
     "ename": "NameError",
     "evalue": "name 's1' is not defined",
     "output_type": "error",
     "traceback": [
      "\u001B[1;31m---------------------------------------------------------------------------\u001B[0m",
      "\u001B[1;31mNameError\u001B[0m                                 Traceback (most recent call last)",
      "Input \u001B[1;32mIn [1]\u001B[0m, in \u001B[0;36m<cell line: 2>\u001B[1;34m()\u001B[0m\n\u001B[0;32m      1\u001B[0m \u001B[38;5;66;03m# 字符型向量是元素为字符串的向量\u001B[39;00m\n\u001B[1;32m----> 2\u001B[0m \u001B[43ms1\u001B[49m \u001B[38;5;241m<\u001B[39m\u001B[38;5;241m-\u001B[39m c(\u001B[38;5;124m'\u001B[39m\u001B[38;5;124mabc\u001B[39m\u001B[38;5;124m'\u001B[39m, \u001B[38;5;124m'\u001B[39m\u001B[38;5;124m'\u001B[39m, \u001B[38;5;124m'\u001B[39m\u001B[38;5;124ma cat\u001B[39m\u001B[38;5;124m'\u001B[39m, NA, \u001B[38;5;124m'\u001B[39m\u001B[38;5;124m字\u001B[39m\u001B[38;5;124m'\u001B[39m)\n",
      "\u001B[1;31mNameError\u001B[0m: name 's1' is not defined"
     ]
    }
   ],
   "source": [
    "# 字符型向量是元素为字符串的向量\n",
    "s1 <- c('abc', '', 'a cat', NA, '字')"
   ]
  },
  {
   "cell_type": "markdown",
   "id": "ce747587",
   "metadata": {},
   "source": [
    "## 6.2 paste() 函数 "
   ]
  },
  {
   "cell_type": "code",
   "execution_count": null,
   "id": "cfb15069",
   "metadata": {
    "ExecuteTime": {
     "end_time": "2022-09-30T05:34:40.346792Z",
     "start_time": "2022-09-30T05:34:40.333Z"
    }
   },
   "outputs": [],
   "source": [
    "# paste()函数用来连接两个字符型向量，元素--对应连接，默认用空格连接\n",
    "paste(c('ab', 'cd'), c('ef', 'gh'))\n",
    "paste(c('ab', 'cd'), c('ef', 'gh'), seq = \"\")"
   ]
  },
  {
   "cell_type": "markdown",
   "source": [
    "## 6.3 转换大小写"
   ],
   "metadata": {
    "collapsed": false
   }
  },
  {
   "cell_type": "code",
   "execution_count": null,
   "outputs": [],
   "source": [
    "toupper(c('abc', 'ufo', NA))\n",
    "tolower(c('ABC', 'UFO', NA))"
   ],
   "metadata": {
    "collapsed": false
   }
  },
  {
   "cell_type": "markdown",
   "source": [
    "## 6.4 字符串长度"
   ],
   "metadata": {
    "collapsed": false
   }
  },
  {
   "cell_type": "code",
   "execution_count": null,
   "outputs": [],
   "source": [
    "nchar('abcdef gh字', type = 'bytes')\n",
    "nchar('abcdef gh字', type = 'chars')"
   ],
   "metadata": {
    "collapsed": false
   }
  },
  {
   "cell_type": "markdown",
   "source": [
    "## 6.5 取子串"
   ],
   "metadata": {
    "collapsed": false
   }
  },
  {
   "cell_type": "code",
   "execution_count": null,
   "outputs": [],
   "source": [
    "# substr(x, start, stop) 从字符串x中取出从第start个到第stop个字串\n",
    "substr(\"CHINA\", 2, 3)\n",
    "substr(c(\"CHINA\", \"USA\"), 2, 3)\n",
    "substring(c(\"CHINA\", \"USA\"), 2)"
   ],
   "metadata": {
    "collapsed": false
   }
  },
  {
   "cell_type": "markdown",
   "source": [
    "## 6.6 类型转换"
   ],
   "metadata": {
    "collapsed": false
   }
  },
  {
   "cell_type": "code",
   "execution_count": null,
   "outputs": [],
   "source": [
    "# as.numeric() 把内容是数字的字符型值转换为数值\n",
    "as.numeric(substr(c('JAN07', 'MAR66'), 4, 5))\n",
    "as.character(as.numeric(substr(c('JAN07', 'MAR66'), 4, 5)))"
   ],
   "metadata": {
    "collapsed": false
   }
  },
  {
   "cell_type": "markdown",
   "source": [
    "## 6.7 字符串替换功能"
   ],
   "metadata": {
    "collapsed": false
   }
  },
  {
   "cell_type": "code",
   "execution_count": null,
   "outputs": [],
   "source": [
    "# gsub()可以替换字符串中的子串\n",
    "gsub(';', ',', '1,3;5', fixed = TRUE)"
   ],
   "metadata": {
    "collapsed": false
   }
  },
  {
   "cell_type": "markdown",
   "source": [
    "## 6.8 正则表达式"
   ],
   "metadata": {
    "collapsed": false
   }
  },
  {
   "cell_type": "code",
   "execution_count": null,
   "outputs": [],
   "source": [
    "# 正则表达式是一种匹配某种字符串模式的方法\n",
    "# R中支持perl语言格式的正则表达式\n",
    "gsub('[[:space:]]+', ' ',\n",
    "     'a   cat  in a box', perl = TRUE)"
   ],
   "metadata": {
    "collapsed": false
   }
  }
 ],
 "metadata": {
  "kernelspec": {
   "display_name": "R",
   "language": "R",
   "name": "ir"
  },
  "language_info": {
   "codemirror_mode": "r",
   "file_extension": ".r",
   "mimetype": "text/x-r-source",
   "name": "R",
   "pygments_lexer": "r",
   "version": "4.2.1"
  },
  "toc": {
   "base_numbering": 1,
   "nav_menu": {},
   "number_sections": true,
   "sideBar": true,
   "skip_h1_title": false,
   "title_cell": "Table of Contents",
   "title_sidebar": "Contents",
   "toc_cell": false,
   "toc_position": {},
   "toc_section_display": true,
   "toc_window_display": false
  },
  "varInspector": {
   "cols": {
    "lenName": 16,
    "lenType": 16,
    "lenVar": 40
   },
   "kernels_config": {
    "python": {
     "delete_cmd_postfix": "",
     "delete_cmd_prefix": "del ",
     "library": "var_list.py",
     "varRefreshCmd": "print(var_dic_list())"
    },
    "r": {
     "delete_cmd_postfix": ") ",
     "delete_cmd_prefix": "rm(",
     "library": "var_list.r",
     "varRefreshCmd": "cat(var_dic_list()) "
    }
   },
   "types_to_exclude": [
    "module",
    "function",
    "builtin_function_or_method",
    "instance",
    "_Feature"
   ],
   "window_display": false
  }
 },
 "nbformat": 4,
 "nbformat_minor": 5
}
